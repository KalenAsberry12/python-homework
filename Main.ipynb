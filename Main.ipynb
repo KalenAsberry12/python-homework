{
 "cells": [
  {
   "cell_type": "code",
   "execution_count": 19,
   "metadata": {},
   "outputs": [],
   "source": [
    "from pathlib import Path\n",
    "import csv\n"
   ]
  },
  {
   "cell_type": "code",
   "execution_count": 20,
   "metadata": {},
   "outputs": [],
   "source": [
    "# Set the file path\n",
    "csvpath = Path('../Pybank/budget_data.csv')\n"
   ]
  },
  {
   "cell_type": "code",
   "execution_count": 21,
   "metadata": {},
   "outputs": [],
   "source": [
    "# Initialize variable to hold\n",
    "total_month = []\n",
    "total_profit = []\n",
    "monthly_profit_change = []\n"
   ]
  },
  {
   "cell_type": "code",
   "execution_count": 22,
   "metadata": {},
   "outputs": [],
   "source": [
    "# with open csv in read mode with context manager\n",
    "with open(csvpath, 'r') as csvfile:\n",
    "    \n",
    "    # csv reader\n",
    "    csv_reader = csv.reader(csvfile, delimiter=',')\n",
    "    header = next(csv_reader)\n",
    "    for row in csv_reader:\n",
    "        total_month.append(row[0])\n",
    "        total_profit.append(int(row[1])) \n",
    "            "
   ]
  },
  {
   "cell_type": "code",
   "execution_count": 23,
   "metadata": {},
   "outputs": [],
   "source": [
    "    for x in range(len(total_profit)-1):\n",
    "        monthly_profit_change.append(total_profit[x+1]-total_profit[x])"
   ]
  },
  {
   "cell_type": "code",
   "execution_count": 29,
   "metadata": {},
   "outputs": [
    {
     "name": "stdout",
     "output_type": "stream",
     "text": [
      "Feb-2012\n",
      "Sep-2013\n"
     ]
    }
   ],
   "source": [
    "# Greatest increase/decrease in profit/losses \n",
    "max_increase_value = max(monthly_profit_change)\n",
    "min_decrease_value = min(monthly_profit_change)\n",
    "max_month_index_value = monthly_profit_change.index(max(monthly_profit_change))\n",
    "min_month_index_value = monthly_profit_change.index(min(monthly_profit_change))\n",
    "\n",
    "# Print statement for dates\n",
    "# print(total_month[max_month_index_value+1])\n",
    "# print(total_month[min_month_index_value+1])\n",
    "# max/min months\n",
    "max_increase_month = max(total_month)\n",
    "min_decrease_month = min(total_month)\n"
   ]
  },
  {
   "cell_type": "code",
   "execution_count": 30,
   "metadata": {},
   "outputs": [
    {
     "name": "stdout",
     "output_type": "stream",
     "text": [
      "Financial Analysis\n",
      "----------------------------\n",
      "Total Months: 86\n",
      "Total: $38382578\n",
      "Average Change: -2315.12\n",
      "Greatest Increase in Profits: Feb-2012 ($1926159)\n",
      "Greatest Decrease in Profits: Sep-2013 ($-2196167)\n"
     ]
    }
   ],
   "source": [
    "# print Statements\n",
    "print(\"Financial Analysis\")\n",
    "print(\"----------------------------\")\n",
    "print(f\"Total Months: {len(total_month)}\")\n",
    "print(f\"Total: ${sum(total_profit)}\")\n",
    "print(f\"Average Change: {round(sum(monthly_profit_change)/len(monthly_profit_change),2)}\")\n",
    "print(f\"Greatest Increase in Profits: {(total_month[max_month_index_value+1])} (${(str(max_increase_value))})\")\n",
    "print(f\"Greatest Decrease in Profits: {(total_month[min_month_index_value+1])} (${(str(min_decrease_value))})\")\n"
   ]
  },
  {
   "cell_type": "code",
   "execution_count": null,
   "metadata": {},
   "outputs": [],
   "source": []
  }
 ],
 "metadata": {
  "kernelspec": {
   "display_name": "Python 3",
   "language": "python",
   "name": "python3"
  },
  "language_info": {
   "codemirror_mode": {
    "name": "ipython",
    "version": 3
   },
   "file_extension": ".py",
   "mimetype": "text/x-python",
   "name": "python",
   "nbconvert_exporter": "python",
   "pygments_lexer": "ipython3",
   "version": "3.7.7"
  }
 },
 "nbformat": 4,
 "nbformat_minor": 4
}
